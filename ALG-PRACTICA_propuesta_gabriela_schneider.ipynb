{
 "cells": [
  {
   "cell_type": "markdown",
   "id": "f2ac4dcd",
   "metadata": {},
   "source": [
    "<img src=\"images/keepcoding.png\" width=200 align=\"left\">"
   ]
  },
  {
   "cell_type": "markdown",
   "id": "9b439de7",
   "metadata": {},
   "source": [
    "# Módulo de Matemáticas 101: práctica\n",
    "\n",
    "Vamos a poner de nuevo en práctica lo que hemos visto en este módulo. La práctica se centra en la regresión lineal (¡tema muy importante!) y podéis preguntarme las dudas que tengáis por Discord. ¡Mucha suerte!\n",
    "\n",
    "<img src=\"./images/luck.gif\" alt=\"Drawing\" style=\"width: 300px;\"/>"
   ]
  },
  {
   "cell_type": "markdown",
   "id": "3d586f09",
   "metadata": {},
   "source": [
    "## 1. Regresión lineal con mínimos cuadrados\n",
    "\n",
    "En este ejercicio vamos a implementar la forma matricial de la regresión lineal con el método de los mínimos cuadrados. Para ello, tendrás que:\n",
    "\n",
    "- Explorar un dataset\n",
    "- Implementar la regresión lineal\n",
    "- Aplicarla a los datos\n",
    "\n",
    "Como recordatorio, los valores de los pesos $\\widehat{w}$ vienen dados por:\n",
    "\n",
    "<center>$\\widehat{w} = (X^T X)^{-1}X^T y,$</center>\n",
    "\n",
    "Donde $y$ es la variable a predecir y $X$ la matriz de features (NOTA: revisa cómo se define en los apuntes). Sabemos que los pesos van a ser los parámetros de la ecuación lineal que estamos intentando ajustar y tendremos uno por cada variable de entrada que usemos y además un término independiente o bias."
   ]
  },
  {
   "cell_type": "markdown",
   "id": "e574f77d",
   "metadata": {},
   "source": [
    "### 1.1 Carga del dataset y exploración de datos\n",
    "\n",
    "Vamos a usar el dataset de [Auto MPG](https://archive.ics.uci.edu/dataset/9/auto+mpg) que podemos encontrar en el [repositorio de Machine learning de UC Irvine](https://archive.ics.uci.edu/). Lo primero, vamos a familiarizarnos con los datos.\n",
    "\n",
    "En el propio repositorio nos indican cómo descargar el dataset con su librería (podemos consultar el código fuente si queremos)."
   ]
  },
  {
   "cell_type": "code",
   "execution_count": 1,
   "id": "4b5aac08",
   "metadata": {},
   "outputs": [],
   "source": [
    "#%pip install ucimlrepo"
   ]
  },
  {
   "cell_type": "code",
   "execution_count": 11,
   "id": "d69d9185",
   "metadata": {},
   "outputs": [
    {
     "name": "stdout",
     "output_type": "stream",
     "text": [
      "{'uci_id': 9, 'name': 'Auto MPG', 'repository_url': 'https://archive.ics.uci.edu/dataset/9/auto+mpg', 'data_url': 'https://archive.ics.uci.edu/static/public/9/data.csv', 'abstract': 'Revised from CMU StatLib library, data concerns city-cycle fuel consumption', 'area': 'Other', 'tasks': ['Regression'], 'characteristics': ['Multivariate'], 'num_instances': 398, 'num_features': 7, 'feature_types': ['Real', 'Categorical', 'Integer'], 'demographics': [], 'target_col': ['mpg'], 'index_col': ['car_name'], 'has_missing_values': 'yes', 'missing_values_symbol': 'NaN', 'year_of_dataset_creation': 1993, 'last_updated': 'Thu Aug 10 2023', 'dataset_doi': '10.24432/C5859H', 'creators': ['R. Quinlan'], 'intro_paper': None, 'additional_info': {'summary': 'This dataset is a slightly modified version of the dataset provided in the StatLib library.  In line with the use by Ross Quinlan (1993) in predicting the attribute \"mpg\", 8 of the original instances were removed because they had unknown values for the \"mpg\" attribute.  The original dataset is available in the file \"auto-mpg.data-original\".\\r\\n\\r\\n\"The data concerns city-cycle fuel consumption in miles per gallon, to be predicted in terms of 3 multivalued discrete and 5 continuous attributes.\" (Quinlan, 1993)', 'purpose': None, 'funded_by': None, 'instances_represent': None, 'recommended_data_splits': None, 'sensitive_data': None, 'preprocessing_description': None, 'variable_info': '    1. mpg:           continuous\\r\\n    2. cylinders:     multi-valued discrete\\r\\n    3. displacement:  continuous\\r\\n    4. horsepower:    continuous\\r\\n    5. weight:        continuous\\r\\n    6. acceleration:  continuous\\r\\n    7. model year:    multi-valued discrete\\r\\n    8. origin:        multi-valued discrete\\r\\n    9. car name:      string (unique for each instance)', 'citation': None}}\n",
      "---------\n",
      "           name     role         type demographic description units  \\\n",
      "0  displacement  Feature   Continuous        None        None  None   \n",
      "1           mpg   Target   Continuous        None        None  None   \n",
      "2     cylinders  Feature      Integer        None        None  None   \n",
      "3    horsepower  Feature   Continuous        None        None  None   \n",
      "4        weight  Feature   Continuous        None        None  None   \n",
      "5  acceleration  Feature   Continuous        None        None  None   \n",
      "6    model_year  Feature      Integer        None        None  None   \n",
      "7        origin  Feature      Integer        None        None  None   \n",
      "8      car_name       ID  Categorical        None        None  None   \n",
      "\n",
      "  missing_values  \n",
      "0             no  \n",
      "1             no  \n",
      "2             no  \n",
      "3            yes  \n",
      "4             no  \n",
      "5             no  \n",
      "6             no  \n",
      "7             no  \n",
      "8             no  \n"
     ]
    }
   ],
   "source": [
    "from ucimlrepo import fetch_ucirepo \n",
    "  \n",
    "# fetch dataset \n",
    "auto_mpg = fetch_ucirepo(id=9) \n",
    "  \n",
    "# data (as pandas dataframes) \n",
    "X = auto_mpg.data.features \n",
    "y = auto_mpg.data.targets \n",
    "  \n",
    "# metadata \n",
    "print(auto_mpg.metadata) \n",
    "\n",
    "print(\"---------\")\n",
    "  \n",
    "# variable information \n",
    "print(auto_mpg.variables) \n"
   ]
  },
  {
   "cell_type": "markdown",
   "id": "5f7f79e8",
   "metadata": {},
   "source": [
    "Con la función `head` de Pandas podemos ver las primeras filas del dataset."
   ]
  },
  {
   "cell_type": "code",
   "execution_count": 3,
   "id": "242091db",
   "metadata": {},
   "outputs": [
    {
     "data": {
      "text/html": [
       "<div>\n",
       "<style scoped>\n",
       "    .dataframe tbody tr th:only-of-type {\n",
       "        vertical-align: middle;\n",
       "    }\n",
       "\n",
       "    .dataframe tbody tr th {\n",
       "        vertical-align: top;\n",
       "    }\n",
       "\n",
       "    .dataframe thead th {\n",
       "        text-align: right;\n",
       "    }\n",
       "</style>\n",
       "<table border=\"1\" class=\"dataframe\">\n",
       "  <thead>\n",
       "    <tr style=\"text-align: right;\">\n",
       "      <th></th>\n",
       "      <th>displacement</th>\n",
       "      <th>cylinders</th>\n",
       "      <th>horsepower</th>\n",
       "      <th>weight</th>\n",
       "      <th>acceleration</th>\n",
       "      <th>model_year</th>\n",
       "      <th>origin</th>\n",
       "    </tr>\n",
       "  </thead>\n",
       "  <tbody>\n",
       "    <tr>\n",
       "      <th>0</th>\n",
       "      <td>307.0</td>\n",
       "      <td>8</td>\n",
       "      <td>130.0</td>\n",
       "      <td>3504</td>\n",
       "      <td>12.0</td>\n",
       "      <td>70</td>\n",
       "      <td>1</td>\n",
       "    </tr>\n",
       "    <tr>\n",
       "      <th>1</th>\n",
       "      <td>350.0</td>\n",
       "      <td>8</td>\n",
       "      <td>165.0</td>\n",
       "      <td>3693</td>\n",
       "      <td>11.5</td>\n",
       "      <td>70</td>\n",
       "      <td>1</td>\n",
       "    </tr>\n",
       "    <tr>\n",
       "      <th>2</th>\n",
       "      <td>318.0</td>\n",
       "      <td>8</td>\n",
       "      <td>150.0</td>\n",
       "      <td>3436</td>\n",
       "      <td>11.0</td>\n",
       "      <td>70</td>\n",
       "      <td>1</td>\n",
       "    </tr>\n",
       "    <tr>\n",
       "      <th>3</th>\n",
       "      <td>304.0</td>\n",
       "      <td>8</td>\n",
       "      <td>150.0</td>\n",
       "      <td>3433</td>\n",
       "      <td>12.0</td>\n",
       "      <td>70</td>\n",
       "      <td>1</td>\n",
       "    </tr>\n",
       "    <tr>\n",
       "      <th>4</th>\n",
       "      <td>302.0</td>\n",
       "      <td>8</td>\n",
       "      <td>140.0</td>\n",
       "      <td>3449</td>\n",
       "      <td>10.5</td>\n",
       "      <td>70</td>\n",
       "      <td>1</td>\n",
       "    </tr>\n",
       "  </tbody>\n",
       "</table>\n",
       "</div>"
      ],
      "text/plain": [
       "   displacement  cylinders  horsepower  weight  acceleration  model_year  \\\n",
       "0         307.0          8       130.0    3504          12.0          70   \n",
       "1         350.0          8       165.0    3693          11.5          70   \n",
       "2         318.0          8       150.0    3436          11.0          70   \n",
       "3         304.0          8       150.0    3433          12.0          70   \n",
       "4         302.0          8       140.0    3449          10.5          70   \n",
       "\n",
       "   origin  \n",
       "0       1  \n",
       "1       1  \n",
       "2       1  \n",
       "3       1  \n",
       "4       1  "
      ]
     },
     "execution_count": 3,
     "metadata": {},
     "output_type": "execute_result"
    }
   ],
   "source": [
    "X.head()\n"
   ]
  },
  {
   "cell_type": "code",
   "execution_count": 4,
   "id": "bc6bfba5",
   "metadata": {},
   "outputs": [
    {
     "data": {
      "text/html": [
       "<div>\n",
       "<style scoped>\n",
       "    .dataframe tbody tr th:only-of-type {\n",
       "        vertical-align: middle;\n",
       "    }\n",
       "\n",
       "    .dataframe tbody tr th {\n",
       "        vertical-align: top;\n",
       "    }\n",
       "\n",
       "    .dataframe thead th {\n",
       "        text-align: right;\n",
       "    }\n",
       "</style>\n",
       "<table border=\"1\" class=\"dataframe\">\n",
       "  <thead>\n",
       "    <tr style=\"text-align: right;\">\n",
       "      <th></th>\n",
       "      <th>mpg</th>\n",
       "    </tr>\n",
       "  </thead>\n",
       "  <tbody>\n",
       "    <tr>\n",
       "      <th>0</th>\n",
       "      <td>18.0</td>\n",
       "    </tr>\n",
       "    <tr>\n",
       "      <th>1</th>\n",
       "      <td>15.0</td>\n",
       "    </tr>\n",
       "    <tr>\n",
       "      <th>2</th>\n",
       "      <td>18.0</td>\n",
       "    </tr>\n",
       "    <tr>\n",
       "      <th>3</th>\n",
       "      <td>16.0</td>\n",
       "    </tr>\n",
       "    <tr>\n",
       "      <th>4</th>\n",
       "      <td>17.0</td>\n",
       "    </tr>\n",
       "  </tbody>\n",
       "</table>\n",
       "</div>"
      ],
      "text/plain": [
       "    mpg\n",
       "0  18.0\n",
       "1  15.0\n",
       "2  18.0\n",
       "3  16.0\n",
       "4  17.0"
      ]
     },
     "execution_count": 4,
     "metadata": {},
     "output_type": "execute_result"
    }
   ],
   "source": [
    "y.head()\n",
    "#miles per gallon: is the distance, measured in miles, that a vehicle can travel on a gallon of fuel. "
   ]
  },
  {
   "cell_type": "markdown",
   "id": "f1937b9f",
   "metadata": {},
   "source": [
    "Crea una función a la que le pases los dataframes de features y de target y el nombre de la variable y haga la gráfica del target (consumo en galones por milla) vs la variable que le ha llegado por parámetro. Puedes ver un ejemplo de gráfica más abajo."
   ]
  },
  {
   "cell_type": "markdown",
   "id": "6d70d76e",
   "metadata": {},
   "source": []
  },
  {
   "cell_type": "code",
   "execution_count": 5,
   "id": "13197dad",
   "metadata": {},
   "outputs": [
    {
     "data": {
      "image/png": "[encoded data removed]",
      "text/plain": [
       "<Figure size 640x480 with 1 Axes>"
      ]
     },
     "metadata": {},
     "output_type": "display_data"
    }
   ],
   "source": [
    "import matplotlib.pyplot as plt\n",
    "\n",
    "def visualiza(df, y, nombre_columna):\n",
    "    # TODO dibuja la gráfica\n",
    "    plt.scatter(df[nombre_columna], y, s= 10, c= \"tan\")\n",
    "    plt.xlabel(nombre_columna)\n",
    "    plt.ylabel(\"MPG Consumption\")\n",
    "    plt.title(f'MPG vs {nombre_columna}')\n",
    "    return plt.show()\n",
    "\n",
    "visualiza(X, y, 'horsepower')"
   ]
  },
  {
   "cell_type": "code",
   "execution_count": 6,
   "id": "59db67f0",
   "metadata": {},
   "outputs": [
    {
     "data": {
      "image/png": "[encoded data removed]",
      "text/plain": [
       "<Figure size 640x480 with 1 Axes>"
      ]
     },
     "metadata": {},
     "output_type": "display_data"
    }
   ],
   "source": [
    "visualiza(X, y, 'acceleration')"
   ]
  },
  {
   "cell_type": "code",
   "execution_count": 7,
   "id": "b61b921b",
   "metadata": {},
   "outputs": [
    {
     "data": {
      "image/png": "[encoded data removed]",
      "text/plain": [
       "<Figure size 640x480 with 1 Axes>"
      ]
     },
     "metadata": {},
     "output_type": "display_data"
    }
   ],
   "source": [
    "visualiza(X, y, 'weight')"
   ]
  },
  {
   "cell_type": "markdown",
   "id": "484ab196",
   "metadata": {},
   "source": [
    "Aunque lo ideal sería un modelo multivariante, vamos a elegir la variable `weight` y hacer una regresión lineal solo con esta variable."
   ]
  },
  {
   "cell_type": "markdown",
   "id": "58c9aff9",
   "metadata": {},
   "source": [
    "### 1.2 Implementación del modelo\n",
    "\n",
    "Lo primero, implementa una función que devuelva los valores de $\\widehat{w}$ dados X e y. Si se da el caso de que el dataset tiene más features que observaciones, queremos transponerlo antes de realizar las operaciones. Lo hacemos porque, como vimos en clase, los resultados no van a ser buenos si el número de observaciones es menor."
   ]
  },
  {
   "cell_type": "code",
   "execution_count": 14,
   "id": "3e1188bc",
   "metadata": {},
   "outputs": [
    {
     "data": {
      "text/plain": [
       "(398, 7)"
      ]
     },
     "execution_count": 14,
     "metadata": {},
     "output_type": "execute_result"
    }
   ],
   "source": [
    "X.shape"
   ]
  },
  {
   "cell_type": "code",
   "execution_count": 18,
   "id": "741a496b",
   "metadata": {},
   "outputs": [],
   "source": [
    "import numpy as np\n",
    "\n",
    "def pesos_ols(X, y):\n",
    "    # Implementa la fórmula matricial\n",
    "    \n",
    "    # TODO 1 Comprueba que las dimensiones son adecuadas y corrige si no es así\n",
    "    num_filas,num_columnas=X.shape\n",
    "    A=X\n",
    "    if num_filas<num_columnas:       \n",
    "        print(\"Número de observaciones < Número de variables\")        \n",
    "        A = np.transpose(X)\n",
    "    print(\"Dimensión de la matriz adecuada: \",A.shape) \n",
    "    # TODO 2 Prepara la matriz X para que tenga la forma adecuada para aplicar la fórmula \n",
    "    \n",
    "    ones = np.ones((len(A),1))\n",
    "    A_b = np.concatenate((ones, A), axis = 1)\n",
    "    A_bt = np.transpose(A_b)\n",
    "\n",
    "    print(ones.shape,A_b.shape, A_bt.shape)\n",
    "    # TODO 3 Calcula los pesos\n",
    "    w = np.linalg.inv(np.dot(A_bt, A_b)).dot(A_bt).dot(y)\n",
    "   \n",
    "    return w"
   ]
  },
  {
   "cell_type": "code",
   "execution_count": 19,
   "id": "20ebe4da",
   "metadata": {},
   "outputs": [
    {
     "name": "stdout",
     "output_type": "stream",
     "text": [
      "Número de observaciones < Número de variables\n",
      "Dimensión de la matriz adecuada:  (10, 2)\n",
      "(10, 1) (10, 3) (3, 10)\n"
     ]
    },
    {
     "data": {
      "text/plain": [
       "array([-2.29223802e+06,  5.92536529e+01,  1.20780450e+03])"
      ]
     },
     "execution_count": 19,
     "metadata": {},
     "output_type": "execute_result"
    }
   ],
   "source": [
    "X = np.array([[1710, 1262, 1786, 1717, 2198, 1362, 1694, 2090, 1774, 1077], \n",
    "              [2003, 1976, 2001, 1915, 2000, 1993, 2004, 1973, 1931, 1939]])\n",
    "y = np.array([208500, 181500, 223500, 140000, 250000, 143000, 307000, 200000, 129900, 118000])\n",
    "pesos_ols(X, y)"
   ]
  },
  {
   "cell_type": "markdown",
   "id": "5cb5c0f5",
   "metadata": {},
   "source": [
    "### 1.3 Prueba del modelo en los datos de consumo de coches\n",
    "\n",
    "Ya podemos usar nuestra función `pesos` en el dataset real que hemos descargado. Para ver el ajuste, dibuja de nuevo los datos junto con la recta que has obtenido, en la misma gráfica. Tendrás que convertir los dataframes de Pandas en arrays de numpy para poder aplicar las operaciones matriciales.\n",
    "\n",
    "TIP: Revisa las dimensiones de todos los arrays para ver que son correctas."
   ]
  },
  {
   "cell_type": "code",
   "execution_count": 23,
   "id": "53cebe34",
   "metadata": {},
   "outputs": [
    {
     "name": "stdout",
     "output_type": "stream",
     "text": [
      "Dimensión de la matriz adecuada:  (398, 7)\n",
      "(398, 1) (398, 8) (8, 398)\n"
     ]
    },
    {
     "ename": "ValueError",
     "evalue": "Unable to coerce to Series, length must be 7: given 1",
     "output_type": "error",
     "traceback": [
      "\u001b[0;31m---------------------------------------------------------------------------\u001b[0m",
      "\u001b[0;31mValueError\u001b[0m                                Traceback (most recent call last)",
      "\u001b[0;32m/var/folders/yh/nttnvvwn565_gnd98_z427v80000gp/T/ipykernel_43357/4003392730.py\u001b[0m in \u001b[0;36m?\u001b[0;34m()\u001b[0m\n\u001b[1;32m      7\u001b[0m \u001b[0;34m\u001b[0m\u001b[0m\n\u001b[1;32m      8\u001b[0m \u001b[0;34m\u001b[0m\u001b[0m\n\u001b[1;32m      9\u001b[0m \u001b[0;34m\u001b[0m\u001b[0m\n\u001b[1;32m     10\u001b[0m \u001b[0;34m\u001b[0m\u001b[0m\n\u001b[0;32m---> 11\u001b[0;31m \u001b[0my1\u001b[0m \u001b[0;34m=\u001b[0m \u001b[0mw\u001b[0m\u001b[0;34m[\u001b[0m\u001b[0;36m0\u001b[0m\u001b[0;34m]\u001b[0m \u001b[0;34m+\u001b[0m \u001b[0mw\u001b[0m\u001b[0;34m[\u001b[0m\u001b[0;36m1\u001b[0m\u001b[0;34m]\u001b[0m\u001b[0;34m*\u001b[0m\u001b[0mX\u001b[0m\u001b[0;34m\u001b[0m\u001b[0;34m\u001b[0m\u001b[0m\n\u001b[0m\u001b[1;32m     12\u001b[0m \u001b[0;34m\u001b[0m\u001b[0m\n\u001b[1;32m     13\u001b[0m \u001b[0mplt\u001b[0m\u001b[0;34m.\u001b[0m\u001b[0mfigure\u001b[0m\u001b[0;34m(\u001b[0m\u001b[0mfigsize\u001b[0m\u001b[0;34m=\u001b[0m\u001b[0;34m(\u001b[0m\u001b[0;36m8\u001b[0m\u001b[0;34m,\u001b[0m \u001b[0;36m6\u001b[0m\u001b[0;34m)\u001b[0m\u001b[0;34m)\u001b[0m\u001b[0;34m\u001b[0m\u001b[0;34m\u001b[0m\u001b[0m\n\u001b[1;32m     14\u001b[0m \u001b[0mplt\u001b[0m\u001b[0;34m.\u001b[0m\u001b[0mscatter\u001b[0m\u001b[0;34m(\u001b[0m\u001b[0mX\u001b[0m\u001b[0;34m,\u001b[0m\u001b[0my\u001b[0m\u001b[0;34m,\u001b[0m\u001b[0mc\u001b[0m\u001b[0;34m=\u001b[0m\u001b[0;34m'red'\u001b[0m\u001b[0;34m)\u001b[0m\u001b[0;34m\u001b[0m\u001b[0;34m\u001b[0m\u001b[0m\n",
      "\u001b[0;32m~/miniforge3/envs/BTCamp24KC/lib/python3.11/site-packages/pandas/core/generic.py\u001b[0m in \u001b[0;36m?\u001b[0;34m(self, ufunc, method, *inputs, **kwargs)\u001b[0m\n\u001b[1;32m   2167\u001b[0m     \u001b[0;34m@\u001b[0m\u001b[0mfinal\u001b[0m\u001b[0;34m\u001b[0m\u001b[0;34m\u001b[0m\u001b[0m\n\u001b[1;32m   2168\u001b[0m     def __array_ufunc__(\n\u001b[1;32m   2169\u001b[0m         \u001b[0mself\u001b[0m\u001b[0;34m,\u001b[0m \u001b[0mufunc\u001b[0m\u001b[0;34m:\u001b[0m \u001b[0mnp\u001b[0m\u001b[0;34m.\u001b[0m\u001b[0mufunc\u001b[0m\u001b[0;34m,\u001b[0m \u001b[0mmethod\u001b[0m\u001b[0;34m:\u001b[0m \u001b[0mstr\u001b[0m\u001b[0;34m,\u001b[0m \u001b[0;34m*\u001b[0m\u001b[0minputs\u001b[0m\u001b[0;34m:\u001b[0m \u001b[0mAny\u001b[0m\u001b[0;34m,\u001b[0m \u001b[0;34m**\u001b[0m\u001b[0mkwargs\u001b[0m\u001b[0;34m:\u001b[0m \u001b[0mAny\u001b[0m\u001b[0;34m\u001b[0m\u001b[0;34m\u001b[0m\u001b[0m\n\u001b[1;32m   2170\u001b[0m     ):\n\u001b[0;32m-> 2171\u001b[0;31m         \u001b[0;32mreturn\u001b[0m \u001b[0marraylike\u001b[0m\u001b[0;34m.\u001b[0m\u001b[0marray_ufunc\u001b[0m\u001b[0;34m(\u001b[0m\u001b[0mself\u001b[0m\u001b[0;34m,\u001b[0m \u001b[0mufunc\u001b[0m\u001b[0;34m,\u001b[0m \u001b[0mmethod\u001b[0m\u001b[0;34m,\u001b[0m \u001b[0;34m*\u001b[0m\u001b[0minputs\u001b[0m\u001b[0;34m,\u001b[0m \u001b[0;34m**\u001b[0m\u001b[0mkwargs\u001b[0m\u001b[0;34m)\u001b[0m\u001b[0;34m\u001b[0m\u001b[0;34m\u001b[0m\u001b[0m\n\u001b[0m",
      "\u001b[0;32m~/miniforge3/envs/BTCamp24KC/lib/python3.11/site-packages/pandas/core/arraylike.py\u001b[0m in \u001b[0;36m?\u001b[0;34m(self, ufunc, method, *inputs, **kwargs)\u001b[0m\n\u001b[1;32m    272\u001b[0m \u001b[0;34m\u001b[0m\u001b[0m\n\u001b[1;32m    273\u001b[0m     \u001b[0mkwargs\u001b[0m \u001b[0;34m=\u001b[0m \u001b[0m_standardize_out_kwarg\u001b[0m\u001b[0;34m(\u001b[0m\u001b[0;34m**\u001b[0m\u001b[0mkwargs\u001b[0m\u001b[0;34m)\u001b[0m\u001b[0;34m\u001b[0m\u001b[0;34m\u001b[0m\u001b[0m\n\u001b[1;32m    274\u001b[0m \u001b[0;34m\u001b[0m\u001b[0m\n\u001b[1;32m    275\u001b[0m     \u001b[0;31m# for binary ops, use our custom dunder methods\u001b[0m\u001b[0;34m\u001b[0m\u001b[0;34m\u001b[0m\u001b[0m\n\u001b[0;32m--> 276\u001b[0;31m     \u001b[0mresult\u001b[0m \u001b[0;34m=\u001b[0m \u001b[0mmaybe_dispatch_ufunc_to_dunder_op\u001b[0m\u001b[0;34m(\u001b[0m\u001b[0mself\u001b[0m\u001b[0;34m,\u001b[0m \u001b[0mufunc\u001b[0m\u001b[0;34m,\u001b[0m \u001b[0mmethod\u001b[0m\u001b[0;34m,\u001b[0m \u001b[0;34m*\u001b[0m\u001b[0minputs\u001b[0m\u001b[0;34m,\u001b[0m \u001b[0;34m**\u001b[0m\u001b[0mkwargs\u001b[0m\u001b[0;34m)\u001b[0m\u001b[0;34m\u001b[0m\u001b[0;34m\u001b[0m\u001b[0m\n\u001b[0m\u001b[1;32m    277\u001b[0m     \u001b[0;32mif\u001b[0m \u001b[0mresult\u001b[0m \u001b[0;32mis\u001b[0m \u001b[0;32mnot\u001b[0m \u001b[0mNotImplemented\u001b[0m\u001b[0;34m:\u001b[0m\u001b[0;34m\u001b[0m\u001b[0;34m\u001b[0m\u001b[0m\n\u001b[1;32m    278\u001b[0m         \u001b[0;32mreturn\u001b[0m \u001b[0mresult\u001b[0m\u001b[0;34m\u001b[0m\u001b[0;34m\u001b[0m\u001b[0m\n\u001b[1;32m    279\u001b[0m \u001b[0;34m\u001b[0m\u001b[0m\n",
      "\u001b[0;32mops_dispatch.pyx\u001b[0m in \u001b[0;36m?\u001b[0;34m()\u001b[0m\n\u001b[0;32m--> 113\u001b[0;31m \u001b[0;34m'Could not get source, probably due dynamically evaluated source code.'\u001b[0m\u001b[0;34m\u001b[0m\u001b[0;34m\u001b[0m\u001b[0m\n\u001b[0m",
      "\u001b[0;32m~/miniforge3/envs/BTCamp24KC/lib/python3.11/site-packages/pandas/core/ops/common.py\u001b[0m in \u001b[0;36m?\u001b[0;34m(self, other)\u001b[0m\n\u001b[1;32m     72\u001b[0m                     \u001b[0;32mreturn\u001b[0m \u001b[0mNotImplemented\u001b[0m\u001b[0;34m\u001b[0m\u001b[0;34m\u001b[0m\u001b[0m\n\u001b[1;32m     73\u001b[0m \u001b[0;34m\u001b[0m\u001b[0m\n\u001b[1;32m     74\u001b[0m         \u001b[0mother\u001b[0m \u001b[0;34m=\u001b[0m \u001b[0mitem_from_zerodim\u001b[0m\u001b[0;34m(\u001b[0m\u001b[0mother\u001b[0m\u001b[0;34m)\u001b[0m\u001b[0;34m\u001b[0m\u001b[0;34m\u001b[0m\u001b[0m\n\u001b[1;32m     75\u001b[0m \u001b[0;34m\u001b[0m\u001b[0m\n\u001b[0;32m---> 76\u001b[0;31m         \u001b[0;32mreturn\u001b[0m \u001b[0mmethod\u001b[0m\u001b[0;34m(\u001b[0m\u001b[0mself\u001b[0m\u001b[0;34m,\u001b[0m \u001b[0mother\u001b[0m\u001b[0;34m)\u001b[0m\u001b[0;34m\u001b[0m\u001b[0;34m\u001b[0m\u001b[0m\n\u001b[0m",
      "\u001b[0;32m~/miniforge3/envs/BTCamp24KC/lib/python3.11/site-packages/pandas/core/arraylike.py\u001b[0m in \u001b[0;36m?\u001b[0;34m(self, other)\u001b[0m\n\u001b[1;32m    204\u001b[0m     \u001b[0;34m@\u001b[0m\u001b[0munpack_zerodim_and_defer\u001b[0m\u001b[0;34m(\u001b[0m\u001b[0;34m\"__rmul__\"\u001b[0m\u001b[0;34m)\u001b[0m\u001b[0;34m\u001b[0m\u001b[0;34m\u001b[0m\u001b[0m\n\u001b[1;32m    205\u001b[0m     \u001b[0;32mdef\u001b[0m \u001b[0m__rmul__\u001b[0m\u001b[0;34m(\u001b[0m\u001b[0mself\u001b[0m\u001b[0;34m,\u001b[0m \u001b[0mother\u001b[0m\u001b[0;34m)\u001b[0m\u001b[0;34m:\u001b[0m\u001b[0;34m\u001b[0m\u001b[0;34m\u001b[0m\u001b[0m\n\u001b[0;32m--> 206\u001b[0;31m         \u001b[0;32mreturn\u001b[0m \u001b[0mself\u001b[0m\u001b[0;34m.\u001b[0m\u001b[0m_arith_method\u001b[0m\u001b[0;34m(\u001b[0m\u001b[0mother\u001b[0m\u001b[0;34m,\u001b[0m \u001b[0mroperator\u001b[0m\u001b[0;34m.\u001b[0m\u001b[0mrmul\u001b[0m\u001b[0;34m)\u001b[0m\u001b[0;34m\u001b[0m\u001b[0;34m\u001b[0m\u001b[0m\n\u001b[0m",
      "\u001b[0;32m~/miniforge3/envs/BTCamp24KC/lib/python3.11/site-packages/pandas/core/frame.py\u001b[0m in \u001b[0;36m?\u001b[0;34m(self, other, op)\u001b[0m\n\u001b[1;32m   7906\u001b[0m \u001b[0;34m\u001b[0m\u001b[0m\n\u001b[1;32m   7907\u001b[0m         \u001b[0maxis\u001b[0m\u001b[0;34m:\u001b[0m \u001b[0mLiteral\u001b[0m\u001b[0;34m[\u001b[0m\u001b[0;36m1\u001b[0m\u001b[0;34m]\u001b[0m \u001b[0;34m=\u001b[0m \u001b[0;36m1\u001b[0m  \u001b[0;31m# only relevant for Series other case\u001b[0m\u001b[0;34m\u001b[0m\u001b[0;34m\u001b[0m\u001b[0m\n\u001b[1;32m   7908\u001b[0m         \u001b[0mother\u001b[0m \u001b[0;34m=\u001b[0m \u001b[0mops\u001b[0m\u001b[0;34m.\u001b[0m\u001b[0mmaybe_prepare_scalar_for_op\u001b[0m\u001b[0;34m(\u001b[0m\u001b[0mother\u001b[0m\u001b[0;34m,\u001b[0m \u001b[0;34m(\u001b[0m\u001b[0mself\u001b[0m\u001b[0;34m.\u001b[0m\u001b[0mshape\u001b[0m\u001b[0;34m[\u001b[0m\u001b[0maxis\u001b[0m\u001b[0;34m]\u001b[0m\u001b[0;34m,\u001b[0m\u001b[0;34m)\u001b[0m\u001b[0;34m)\u001b[0m\u001b[0;34m\u001b[0m\u001b[0;34m\u001b[0m\u001b[0m\n\u001b[1;32m   7909\u001b[0m \u001b[0;34m\u001b[0m\u001b[0m\n\u001b[0;32m-> 7910\u001b[0;31m         \u001b[0mself\u001b[0m\u001b[0;34m,\u001b[0m \u001b[0mother\u001b[0m \u001b[0;34m=\u001b[0m \u001b[0mself\u001b[0m\u001b[0;34m.\u001b[0m\u001b[0m_align_for_op\u001b[0m\u001b[0;34m(\u001b[0m\u001b[0mother\u001b[0m\u001b[0;34m,\u001b[0m \u001b[0maxis\u001b[0m\u001b[0;34m,\u001b[0m \u001b[0mflex\u001b[0m\u001b[0;34m=\u001b[0m\u001b[0;32mTrue\u001b[0m\u001b[0;34m,\u001b[0m \u001b[0mlevel\u001b[0m\u001b[0;34m=\u001b[0m\u001b[0;32mNone\u001b[0m\u001b[0;34m)\u001b[0m\u001b[0;34m\u001b[0m\u001b[0;34m\u001b[0m\u001b[0m\n\u001b[0m\u001b[1;32m   7911\u001b[0m \u001b[0;34m\u001b[0m\u001b[0m\n\u001b[1;32m   7912\u001b[0m         \u001b[0;32mwith\u001b[0m \u001b[0mnp\u001b[0m\u001b[0;34m.\u001b[0m\u001b[0merrstate\u001b[0m\u001b[0;34m(\u001b[0m\u001b[0mall\u001b[0m\u001b[0;34m=\u001b[0m\u001b[0;34m\"ignore\"\u001b[0m\u001b[0;34m)\u001b[0m\u001b[0;34m:\u001b[0m\u001b[0;34m\u001b[0m\u001b[0;34m\u001b[0m\u001b[0m\n\u001b[1;32m   7913\u001b[0m             \u001b[0mnew_data\u001b[0m \u001b[0;34m=\u001b[0m \u001b[0mself\u001b[0m\u001b[0;34m.\u001b[0m\u001b[0m_dispatch_frame_op\u001b[0m\u001b[0;34m(\u001b[0m\u001b[0mother\u001b[0m\u001b[0;34m,\u001b[0m \u001b[0mop\u001b[0m\u001b[0;34m,\u001b[0m \u001b[0maxis\u001b[0m\u001b[0;34m=\u001b[0m\u001b[0maxis\u001b[0m\u001b[0;34m)\u001b[0m\u001b[0;34m\u001b[0m\u001b[0;34m\u001b[0m\u001b[0m\n",
      "\u001b[0;32m~/miniforge3/envs/BTCamp24KC/lib/python3.11/site-packages/pandas/core/frame.py\u001b[0m in \u001b[0;36m?\u001b[0;34m(self, other, axis, flex, level)\u001b[0m\n\u001b[1;32m   8137\u001b[0m             \u001b[0;32mreturn\u001b[0m \u001b[0mright\u001b[0m\u001b[0;34m\u001b[0m\u001b[0;34m\u001b[0m\u001b[0m\n\u001b[1;32m   8138\u001b[0m \u001b[0;34m\u001b[0m\u001b[0m\n\u001b[1;32m   8139\u001b[0m         \u001b[0;32mif\u001b[0m \u001b[0misinstance\u001b[0m\u001b[0;34m(\u001b[0m\u001b[0mright\u001b[0m\u001b[0;34m,\u001b[0m \u001b[0mnp\u001b[0m\u001b[0;34m.\u001b[0m\u001b[0mndarray\u001b[0m\u001b[0;34m)\u001b[0m\u001b[0;34m:\u001b[0m\u001b[0;34m\u001b[0m\u001b[0;34m\u001b[0m\u001b[0m\n\u001b[1;32m   8140\u001b[0m             \u001b[0;32mif\u001b[0m \u001b[0mright\u001b[0m\u001b[0;34m.\u001b[0m\u001b[0mndim\u001b[0m \u001b[0;34m==\u001b[0m \u001b[0;36m1\u001b[0m\u001b[0;34m:\u001b[0m\u001b[0;34m\u001b[0m\u001b[0;34m\u001b[0m\u001b[0m\n\u001b[0;32m-> 8141\u001b[0;31m                 \u001b[0mright\u001b[0m \u001b[0;34m=\u001b[0m \u001b[0mto_series\u001b[0m\u001b[0;34m(\u001b[0m\u001b[0mright\u001b[0m\u001b[0;34m)\u001b[0m\u001b[0;34m\u001b[0m\u001b[0;34m\u001b[0m\u001b[0m\n\u001b[0m\u001b[1;32m   8142\u001b[0m \u001b[0;34m\u001b[0m\u001b[0m\n\u001b[1;32m   8143\u001b[0m             \u001b[0;32melif\u001b[0m \u001b[0mright\u001b[0m\u001b[0;34m.\u001b[0m\u001b[0mndim\u001b[0m \u001b[0;34m==\u001b[0m \u001b[0;36m2\u001b[0m\u001b[0;34m:\u001b[0m\u001b[0;34m\u001b[0m\u001b[0;34m\u001b[0m\u001b[0m\n\u001b[1;32m   8144\u001b[0m                 \u001b[0;31m# We need to pass dtype=right.dtype to retain object dtype\u001b[0m\u001b[0;34m\u001b[0m\u001b[0;34m\u001b[0m\u001b[0m\n",
      "\u001b[0;32m~/miniforge3/envs/BTCamp24KC/lib/python3.11/site-packages/pandas/core/frame.py\u001b[0m in \u001b[0;36m?\u001b[0;34m(right)\u001b[0m\n\u001b[1;32m   8129\u001b[0m                     )\n\u001b[1;32m   8130\u001b[0m                 \u001b[0mright\u001b[0m \u001b[0;34m=\u001b[0m \u001b[0mleft\u001b[0m\u001b[0;34m.\u001b[0m\u001b[0m_constructor_sliced\u001b[0m\u001b[0;34m(\u001b[0m\u001b[0mright\u001b[0m\u001b[0;34m,\u001b[0m \u001b[0mindex\u001b[0m\u001b[0;34m=\u001b[0m\u001b[0mleft\u001b[0m\u001b[0;34m.\u001b[0m\u001b[0mindex\u001b[0m\u001b[0;34m,\u001b[0m \u001b[0mdtype\u001b[0m\u001b[0;34m=\u001b[0m\u001b[0mdtype\u001b[0m\u001b[0;34m)\u001b[0m\u001b[0;34m\u001b[0m\u001b[0;34m\u001b[0m\u001b[0m\n\u001b[1;32m   8131\u001b[0m             \u001b[0;32melse\u001b[0m\u001b[0;34m:\u001b[0m\u001b[0;34m\u001b[0m\u001b[0;34m\u001b[0m\u001b[0m\n\u001b[1;32m   8132\u001b[0m                 \u001b[0;32mif\u001b[0m \u001b[0mlen\u001b[0m\u001b[0;34m(\u001b[0m\u001b[0mleft\u001b[0m\u001b[0;34m.\u001b[0m\u001b[0mcolumns\u001b[0m\u001b[0;34m)\u001b[0m \u001b[0;34m!=\u001b[0m \u001b[0mlen\u001b[0m\u001b[0;34m(\u001b[0m\u001b[0mright\u001b[0m\u001b[0;34m)\u001b[0m\u001b[0;34m:\u001b[0m\u001b[0;34m\u001b[0m\u001b[0;34m\u001b[0m\u001b[0m\n\u001b[0;32m-> 8133\u001b[0;31m                     raise ValueError(\n\u001b[0m\u001b[1;32m   8134\u001b[0m                         \u001b[0mmsg\u001b[0m\u001b[0;34m.\u001b[0m\u001b[0mformat\u001b[0m\u001b[0;34m(\u001b[0m\u001b[0mreq_len\u001b[0m\u001b[0;34m=\u001b[0m\u001b[0mlen\u001b[0m\u001b[0;34m(\u001b[0m\u001b[0mleft\u001b[0m\u001b[0;34m.\u001b[0m\u001b[0mcolumns\u001b[0m\u001b[0;34m)\u001b[0m\u001b[0;34m,\u001b[0m \u001b[0mgiven_len\u001b[0m\u001b[0;34m=\u001b[0m\u001b[0mlen\u001b[0m\u001b[0;34m(\u001b[0m\u001b[0mright\u001b[0m\u001b[0;34m)\u001b[0m\u001b[0;34m)\u001b[0m\u001b[0;34m\u001b[0m\u001b[0;34m\u001b[0m\u001b[0m\n\u001b[1;32m   8135\u001b[0m                     )\n\u001b[1;32m   8136\u001b[0m                 \u001b[0mright\u001b[0m \u001b[0;34m=\u001b[0m \u001b[0mleft\u001b[0m\u001b[0;34m.\u001b[0m\u001b[0m_constructor_sliced\u001b[0m\u001b[0;34m(\u001b[0m\u001b[0mright\u001b[0m\u001b[0;34m,\u001b[0m \u001b[0mindex\u001b[0m\u001b[0;34m=\u001b[0m\u001b[0mleft\u001b[0m\u001b[0;34m.\u001b[0m\u001b[0mcolumns\u001b[0m\u001b[0;34m,\u001b[0m \u001b[0mdtype\u001b[0m\u001b[0;34m=\u001b[0m\u001b[0mdtype\u001b[0m\u001b[0;34m)\u001b[0m\u001b[0;34m\u001b[0m\u001b[0;34m\u001b[0m\u001b[0m\n",
      "\u001b[0;31mValueError\u001b[0m: Unable to coerce to Series, length must be 7: given 1"
     ]
    }
   ],
   "source": [
    "# TODO Aplica el modelo y dibuja la recta junto con los datos\n",
    "\n",
    "X = auto_mpg.data.features \n",
    "y = auto_mpg.data.targets \n",
    "\n",
    "# Conversión de df(Pandas) a arrays de numpy\n",
    "X_np = np.array(X[['weight']])\n",
    "y_np = np.array(y['mpg'])\n",
    "X_gd=(X_np - X_np.mean()) / X_np.std()\n",
    "y_gd = y_np\n",
    "\n",
    "\n",
    "w = pesos_ols(X_np, y)  # que son los np. array\n",
    "\n",
    "\n",
    "\n",
    "\n",
    "y1 = w[0] + w[1]*X\n",
    "\n",
    "plt.figure(figsize=(8, 6))        \n",
    "plt.scatter(X,y,c='red')\n",
    "plt.plot(X, y1, c='blue', label = 'Recta')\n",
    "plt.xlabel('weight')\n",
    "plt.ylabel('MPG')\n",
    "plt.title('Recta resultado junto con los datos')\n",
    "plt.legend()\n",
    "plt.show() "
   ]
  },
  {
   "cell_type": "markdown",
   "id": "88fcbf61",
   "metadata": {},
   "source": [
    "Por último, vamos a comprar el resultado con el que nos da `scikit-learn`para ver si nuestra implementación tiene buena pinta. Podemos ver cómo funciona en la [documentación](https://scikit-learn.org/stable/modules/generated/sklearn.linear_model.LinearRegression.html)."
   ]
  },
  {
   "cell_type": "code",
   "execution_count": null,
   "id": "3d07cb49",
   "metadata": {},
   "outputs": [],
   "source": [
    "from sklearn.linear_model import LinearRegression\n",
    "\n",
    "# Creamos el objeto\n",
    "lr = LinearRegression()\n",
    "\n",
    "# Le pasamos los datos en el formato correcto\n",
    "X = auto_mpg.data.features \n",
    "y = auto_mpg.data.targets \n",
    "\n",
    "X_lr = X[['weight']]\n",
    "y_lr = y\n",
    "\n",
    "# Entrenamos con los datos\n",
    "lr.fit(X_lr,y_lr)\n",
    "print(\"Punto de corte:\", lr.intercept_)\n",
    "print(\"Pendiente:\", lr.coef_)"
   ]
  },
  {
   "cell_type": "markdown",
   "id": "a2571861",
   "metadata": {},
   "source": [
    "**TODO**: Analiza el resultado obtenido y compáralo con el de sklearn"
   ]
  },
  {
   "cell_type": "markdown",
   "id": "4aa24d2c",
   "metadata": {},
   "source": [
    "### 1.4 Compara el método de mínimos cuadrados y el descenso del gradiente para obtener los coeficientes de una regresión lineal\n",
    "\n"
   ]
  },
  {
   "cell_type": "markdown",
   "id": "3e9b06f2",
   "metadata": {},
   "source": []
  },
  {
   "cell_type": "markdown",
   "id": "77098377",
   "metadata": {},
   "source": [
    "## 2. Optimización con descenso del gradiente [OPCIONAL]\n",
    "\n",
    "Este ejercicio es opcional, no es necesario hacerlo para conseguir el APTO en la práctica, pero podéis hacerlo si queréis practicar más sobre el método del descenso del gradiente, que es muy importante en machine learning.\n",
    "\n",
    "Vamos a resolver el mismo problema usando el descenso del gradiente en lugar de la solución analítica. El descenso del gradiente es un método de optimización iterativo que usa el operador gradiente.\n",
    "\n",
    "Como es iterativo, necesitamos decirle cuándo tiene que parar y darnos la solución. En este caso, le vamos a decir que pare y nos devuelva la solución después de un número de iteraciones que le pasaremos como parámetro. La ecuación iterativa es.\n",
    "\n",
    "$$w^{t+1} = w^t - \\eta \\cdot \\nabla f(w)$$\n",
    "\n",
    "donde f es nuestra función objetivo, y w es un vector. Para la función objetivo, vamos a usar el error RSS, que querremos minimizar.\n",
    "\n",
    "$$ RSS(w) = \\frac{1}{2}\\sum_{n=1}^{N}[y_n-f(x_n)]^2$$\n",
    "\n",
    "y cuyo gradiente es:\n",
    "\n",
    "$$\\nabla RSS(w) = X^T(Xw^t-y)$$\n",
    "\n",
    "TIP: Ten en cuenta que el RSS también lo puedes escribir como $\\frac{1}{2}\\sum_{n=1}^{N}[y_n-\\hat{y_n}]^2$ donde $\\hat{y_n} = X \\hat{w}$ en cada paso."
   ]
  },
  {
   "cell_type": "markdown",
   "id": "446ad8dd",
   "metadata": {},
   "source": [
    "### 2.1 Implementar el descenso del gradiente\n",
    "\n",
    "Completa las siguientes funciones para implementar el descenso del gradiente con la función objetivo de la regresión lineal. La función necesitará:\n",
    "\n",
    "- La entrada X y salida y de la regresión\n",
    "- Un punto inicial desde el que empezar a iterar\n",
    "- El número de iteraciones \n",
    "- El learning rate\n",
    "\n",
    "La función nos devolverá un array con las w resultantes de las iteraciones y otro con el valor de la función en cada paso del algoritmo, a la que también se conoce como *loss function*."
   ]
  },
  {
   "cell_type": "code",
   "execution_count": null,
   "id": "a73d5785",
   "metadata": {},
   "outputs": [
    {
     "name": "stdout",
     "output_type": "stream",
     "text": [
      "[[183845.82320222]\n",
      " [ 40415.66453324]]\n"
     ]
    }
   ],
   "source": [
    "import numpy as np\n",
    "\n",
    "def gradient_descent(X, y, w0, n_iter, eta): \n",
    "    # Define la función que calcule n_iter iteraciones del descenso del gradiente\n",
    "    # Inicializamos variables\n",
    "    # Si eliges otra forma de resolverlo, puedes borrar esta parte\n",
    "    loss_iter = [np.inf]\n",
    "    w_iter = [w0]\n",
    "    w = w0\n",
    "    \n",
    "    # TODO 1 Añade la columna de 1s\n",
    "    \n",
    "    \n",
    "    # TODO 2 Haz un bucle para las iteraciones \n",
    "    # TODO 3 Dentro del bucle tendrás que actualizar el error y los pesos y añadirlos a las listas\n",
    "    \n",
    "    \n",
    "    # Devuelve los resultados\n",
    "    return np.array(w_iter), np.array(loss_iter)\n",
    "\n",
    "\n",
    "eta = 0.01 \n",
    "iteraciones = 2000 \n",
    "\n",
    "np.random.seed(123)\n",
    "w0 = np.random.rand(2).reshape((2,1))\n",
    "\n",
    "y = np.array([208500, 181500, 223500, 140000, 250000]).reshape((5,1))\n",
    "X = np.array( [[  0.37020659],\n",
    "               [  -0.48234664],\n",
    "               [  0.51483616],\n",
    "               [  0.38352774],\n",
    "               [  1.29888065]])\n",
    "\n",
    "weights, loss = gradient_descent(X, y, w0, iteraciones, eta)\n",
    "\n",
    "print(weights[-1])"
   ]
  },
  {
   "cell_type": "markdown",
   "id": "6d6e3013",
   "metadata": {},
   "source": [
    "### 2.2 Aplicar al dataset de consumo de combustible\n",
    "\n",
    "Leemos de nuevo los datos y aplicamos la función que acabamos de programar."
   ]
  },
  {
   "cell_type": "code",
   "execution_count": null,
   "id": "5b684062",
   "metadata": {},
   "outputs": [
    {
     "name": "stdout",
     "output_type": "stream",
     "text": [
      "(398, 1)\n",
      "(398, 1)\n"
     ]
    }
   ],
   "source": [
    "from ucimlrepo import fetch_ucirepo \n",
    "  \n",
    "# fetch dataset \n",
    "auto_mpg = fetch_ucirepo(id=9) \n",
    "  \n",
    "# data (as pandas dataframes) \n",
    "X = auto_mpg.data.features \n",
    "y = auto_mpg.data.targets \n",
    "  \n",
    "# convert to numpy\n",
    "X_np = X['weight'].to_numpy().reshape((X.shape[0], 1))\n",
    "y_np = y.to_numpy()\n",
    "\n",
    "print(X_np.shape)\n",
    "print(y_np.shape)"
   ]
  },
  {
   "cell_type": "markdown",
   "id": "94d27c55",
   "metadata": {},
   "source": [
    "Para ayudar al algoritmo, vamos a escalar la variable X, restando la media y dividiendo entre la desviación estándar. Después aplicamos la función anterior y dibujamos."
   ]
  },
  {
   "cell_type": "code",
   "execution_count": null,
   "id": "b5438c2a",
   "metadata": {},
   "outputs": [],
   "source": [
    "# TODO Aplica el modelo y dibuja la recta junto con los datos\n",
    "\n",
    "X = auto_mpg.data.features\n",
    "y = auto_mpg.data.targets\n",
    "\n",
    "# Escalamos la variable x \n",
    "\n",
    "X_np = X['weight'].to_numpy().reshape((X.shape[0], 1))\n",
    "y_np = y.to_numpy()\n",
    "\n",
    "X_gd=(X_np - X_np.mean()) / X_np.std()\n",
    "y_gd = y_np\n",
    "\n",
    "# TODO 1 Punto inicial y learning rate\n",
    "\n",
    "\n",
    "# TODO 2 Aplicamos el algoritmo\n",
    "\n",
    "\n",
    "# Límites de los ejes\n",
    "x_max = np.max(X_gd) + 1\n",
    "x_min = np.min(X_gd) -1\n",
    "\n",
    "\n",
    "# TODO 3 Dibuja la gráfica\n"
   ]
  }
 ],
 "metadata": {
  "kernelspec": {
   "display_name": "BTCamp24KC",
   "language": "python",
   "name": "python3"
  },
  "language_info": {
   "codemirror_mode": {
    "name": "ipython",
    "version": 3
   },
   "file_extension": ".py",
   "mimetype": "text/x-python",
   "name": "python",
   "nbconvert_exporter": "python",
   "pygments_lexer": "ipython3",
   "version": "3.11.9"
  }
 },
 "nbformat": 4,
 "nbformat_minor": 5
}
